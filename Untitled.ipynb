{
 "cells": [
  {
   "cell_type": "code",
   "execution_count": 42,
   "id": "82f2aaec-e735-4c23-b3e8-1e8397d8dba5",
   "metadata": {},
   "outputs": [],
   "source": [
    "import os, shutil"
   ]
  },
  {
   "cell_type": "code",
   "execution_count": 43,
   "id": "f5f076d6-601c-4b14-af3a-6892650c62e2",
   "metadata": {},
   "outputs": [],
   "source": [
    "from glob import glob"
   ]
  },
  {
   "cell_type": "code",
   "execution_count": 44,
   "id": "5d10df40-9e4a-48ed-85ef-a65a41524fe3",
   "metadata": {},
   "outputs": [],
   "source": [
    "image_files = glob('../dl-course-2022/07_esc_3d_colonies/images_hdf5/*.hdf5')"
   ]
  },
  {
   "cell_type": "code",
   "execution_count": 45,
   "id": "15bf18f5-b71f-42eb-a3df-2f26aa376c82",
   "metadata": {},
   "outputs": [],
   "source": [
    "from random import shuffle"
   ]
  },
  {
   "cell_type": "code",
   "execution_count": 51,
   "id": "6abfa803-15dd-42a0-86c7-934cf272c686",
   "metadata": {},
   "outputs": [],
   "source": [
    "shuffle(image_files) # mix the order of files"
   ]
  },
  {
   "cell_type": "code",
   "execution_count": 52,
   "id": "2c94356e-acd5-4ad6-8369-774de02af9de",
   "metadata": {},
   "outputs": [
    {
     "data": {
      "text/plain": [
       "56"
      ]
     },
     "execution_count": 52,
     "metadata": {},
     "output_type": "execute_result"
    }
   ],
   "source": [
    "len(image_files)"
   ]
  },
  {
   "cell_type": "code",
   "execution_count": 53,
   "id": "c7935b81-2920-4a29-a068-8f510585d9d7",
   "metadata": {},
   "outputs": [
    {
     "data": {
      "text/plain": [
       "39.199999999999996"
      ]
     },
     "execution_count": 53,
     "metadata": {},
     "output_type": "execute_result"
    }
   ],
   "source": [
    "0.7*len(image_files)"
   ]
  },
  {
   "cell_type": "code",
   "execution_count": null,
   "id": "faf87321-b931-49c2-8ef9-7cf5a5795bd8",
   "metadata": {},
   "outputs": [],
   "source": [
    "# after files are shuffled we can just loop through the first 70% for training \n",
    "# then the rest for validation"
   ]
  },
  {
   "cell_type": "code",
   "execution_count": null,
   "id": "0fef2d0a-626f-4673-9a91-96bbcba09432",
   "metadata": {},
   "outputs": [],
   "source": [
    "for image_file in image_files[0:38]:\n",
    "    base = os.path.basename(image_file)  \n",
    "    shutil.copy2(os.path.join(\n",
    "                '../dl-course-2022/07_esc_3d_colonies/images_hdf5', base),\n",
    "                     os.path.join(\n",
    "                '../dl-course-2022/07_esc_3d_colonies/train/images', base))\n",
    "    shutil.copy2(os.path.join(\n",
    "                '../dl-course-2022/07_esc_3d_colonies/masks_filled', base),\n",
    "                     os.path.join(\n",
    "                '../dl-course-2022/07_esc_3d_colonies/train/masks', base))\n",
    "\n",
    "for image_file in image_files[39:55]:\n",
    "        shutil.copy2(os.path.join(\n",
    "                '../dl-course-2022/07_esc_3d_colonies/images_hdf5', base),\n",
    "                     os.path.join(\n",
    "                '../dl-course-2022/07_esc_3d_colonies/validate/images', base))\n",
    "        shutil.copy2(os.path.join(\n",
    "                '../dl-course-2022/07_esc_3d_colonies/masks_filled', base),\n",
    "                     os.path.join(\n",
    "                '../dl-course-2022/07_esc_3d_colonies/validate/masks', base))\n",
    "        \n",
    "    "
   ]
  },
  {
   "cell_type": "code",
   "execution_count": null,
   "id": "c0543a87-87a7-40c8-b9ff-1eb279edbda4",
   "metadata": {},
   "outputs": [],
   "source": []
  }
 ],
 "metadata": {
  "kernelspec": {
   "display_name": "DL for Image Analysis 2022 (Keras)",
   "language": "python",
   "name": "dl-mw-py39"
  },
  "language_info": {
   "codemirror_mode": {
    "name": "ipython",
    "version": 3
   },
   "file_extension": ".py",
   "mimetype": "text/x-python",
   "name": "python",
   "nbconvert_exporter": "python",
   "pygments_lexer": "ipython3",
   "version": "3.9.7"
  }
 },
 "nbformat": 4,
 "nbformat_minor": 5
}
