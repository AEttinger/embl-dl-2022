{
 "cells": [
  {
   "cell_type": "code",
   "execution_count": 1,
   "id": "ccfb02fc-c10c-46d2-97c2-d7e0317b5588",
   "metadata": {},
   "outputs": [],
   "source": [
    "from __future__ import print_function, unicode_literals, absolute_import, division\n",
    "import sys\n",
    "import numpy as np\n",
    "import matplotlib\n",
    "matplotlib.rcParams[\"image.interpolation\"] = None\n",
    "import matplotlib.pyplot as plt\n",
    "%matplotlib inline\n",
    "%config InlineBackend.figure_format = 'retina'\n",
    "\n",
    "from glob import glob\n",
    "from tqdm import tqdm\n",
    "from tifffile import imread\n",
    "from csbdeep.utils import Path, normalize\n",
    "\n",
    "from stardist import fill_label_holes, random_label_cmap, calculate_extents, gputools_available\n",
    "from stardist import Rays_GoldenSpiral\n",
    "from stardist.matching import matching, matching_dataset\n",
    "from stardist.models import Config3D, StarDist3D, StarDistData3D\n",
    "\n",
    "np.random.seed(42)\n",
    "lbl_cmap = random_label_cmap()"
   ]
  },
  {
   "cell_type": "code",
   "execution_count": 2,
   "id": "4966dbac-a628-44bc-b4fb-6000c90f0ac6",
   "metadata": {},
   "outputs": [],
   "source": [
    "mask_files = glob('../../data/dl-course-2022/masks/*.tif*')\n",
    "img_files = glob('../../data/dl-course-2022/images/*.tif*')"
   ]
  },
  {
   "cell_type": "code",
   "execution_count": 9,
   "id": "ad67af35-81ba-44e8-b59c-8a108051e5dc",
   "metadata": {},
   "outputs": [],
   "source": [
    "test_img = imread(mask_files[0])"
   ]
  },
  {
   "cell_type": "code",
   "execution_count": 3,
   "id": "9aa88c60-5ace-462b-a48c-db3cc89a9d87",
   "metadata": {},
   "outputs": [],
   "source": [
    "import h5py\n",
    "import os"
   ]
  },
  {
   "cell_type": "code",
   "execution_count": 7,
   "id": "06650390-a133-43ef-914f-b188da70e966",
   "metadata": {},
   "outputs": [
    {
     "name": "stderr",
     "output_type": "stream",
     "text": [
      "TiffPage 0: TypeError: read_bytes() missing 3 required positional arguments: 'dtype', 'count', and 'offsetsize'\n",
      "TiffPage 0: TypeError: read_bytes() missing 3 required positional arguments: 'dtype', 'count', and 'offsetsize'\n",
      "TiffPage 0: TypeError: read_bytes() missing 3 required positional arguments: 'dtype', 'count', and 'offsetsize'\n",
      "TiffPage 0: TypeError: read_bytes() missing 3 required positional arguments: 'dtype', 'count', and 'offsetsize'\n",
      "TiffPage 0: TypeError: read_bytes() missing 3 required positional arguments: 'dtype', 'count', and 'offsetsize'\n",
      "TiffPage 0: TypeError: read_bytes() missing 3 required positional arguments: 'dtype', 'count', and 'offsetsize'\n",
      "TiffPage 0: TypeError: read_bytes() missing 3 required positional arguments: 'dtype', 'count', and 'offsetsize'\n"
     ]
    }
   ],
   "source": [
    "for i in range(0,len(mask_files)):\n",
    "    # print(i)\n",
    "    # check image and mask file name is the same\n",
    "    assert(os.path.basename(mask_files[i]) == os.path.basename(img_files[i]))\n",
    "    # read mask and image\n",
    "    mask_img = imread(mask_files[i])\n",
    "    img = imread(img_files[i])\n",
    "    # fill any holes in mask images\n",
    "    mask_img_fill_holes = fill_label_holes(mask_img)\n",
    "    # convert to DWH format\n",
    "    new_mask_img = np.zeros((21,1024,1024))\n",
    "    for z, slice_data in enumerate(mask_img_fill_holes):\n",
    "        new_mask_img[z,:,:] = slice_data\n",
    "    # convert images to DWH format\n",
    "    new_img = np.zeros((21,1024,1024))\n",
    "    for z, im_slice_data in enumerate(img):\n",
    "        new_img[z,:,:] = im_slice_data\n",
    "    \n",
    "    with h5py.File(os.path.join('../../data/dl-course-2022/h5/',\n",
    "                                os.path.basename(mask_files[i]).replace('.tif',''))+'.h5', 'w') as f:\n",
    "        f['raw'] = new_img\n",
    "        f['label'] = new_mask_img"
   ]
  },
  {
   "cell_type": "code",
   "execution_count": null,
   "id": "270cfed4-97d5-43ee-b5f8-01b9e3253320",
   "metadata": {},
   "outputs": [],
   "source": []
  },
  {
   "cell_type": "code",
   "execution_count": 13,
   "id": "ae274bf6-c6f0-41a7-b1d5-67825f910b7d",
   "metadata": {},
   "outputs": [],
   "source": [
    "img_files = glob('../../data/dl-course-2022/images/*.tif*')"
   ]
  },
  {
   "cell_type": "code",
   "execution_count": 14,
   "id": "3cb96d36-be53-460e-8822-117a1ff1f191",
   "metadata": {},
   "outputs": [
    {
     "data": {
      "text/plain": [
       "['../../data/dl-course-2022/images/esc_siRDNA_21.tif',\n",
       " '../../data/dl-course-2022/images/esc_siRDNA_5.tif',\n",
       " '../../data/dl-course-2022/images/esc_siRDNA_30.tif',\n",
       " '../../data/dl-course-2022/images/esc_siRDNA_6.tif',\n",
       " '../../data/dl-course-2022/images/esc_siRDNA_33.tif',\n",
       " '../../data/dl-course-2022/images/esc_siRDNA_29.tif',\n",
       " '../../data/dl-course-2022/images/esc_siRDNA_24.tif',\n",
       " '../../data/dl-course-2022/images/esc_siRDNA_50.tif',\n",
       " '../../data/dl-course-2022/images/esc_siRDNA_46.tif',\n",
       " '../../data/dl-course-2022/images/esc_siRDNA_39.tif',\n",
       " '../../data/dl-course-2022/images/esc_siRDNA_53.tif',\n",
       " '../../data/dl-course-2022/images/esc_siRDNA_41.tif',\n",
       " '../../data/dl-course-2022/images/esc_siRDNA_27.tif',\n",
       " '../../data/dl-course-2022/images/esc_siRDNA_52.tif',\n",
       " '../../data/dl-course-2022/images/esc_siRDNA_43.tif',\n",
       " '../../data/dl-course-2022/images/esc_siRDNA_45.tif',\n",
       " '../../data/dl-course-2022/images/esc_siRDNA_18.tif',\n",
       " '../../data/dl-course-2022/images/esc_siRDNA_49.tif',\n",
       " '../../data/dl-course-2022/images/esc_siRDNA_51.tif',\n",
       " '../../data/dl-course-2022/images/esc_siRDNA_19.tif',\n",
       " '../../data/dl-course-2022/images/esc_siRDNA_23.tif',\n",
       " '../../data/dl-course-2022/images/esc_siRDNA_54.tif',\n",
       " '../../data/dl-course-2022/images/esc_siRDNA_40.tif',\n",
       " '../../data/dl-course-2022/images/esc_siRDNA_28.tif',\n",
       " '../../data/dl-course-2022/images/esc_siRDNA_20.tif',\n",
       " '../../data/dl-course-2022/images/esc_siRDNA_16.tif',\n",
       " '../../data/dl-course-2022/images/esc_siRDNA_35.tif',\n",
       " '../../data/dl-course-2022/images/esc_siRDNA_38.tif',\n",
       " '../../data/dl-course-2022/images/esc_siRDNA_7.tif',\n",
       " '../../data/dl-course-2022/images/esc_siRDNA_3.tif',\n",
       " '../../data/dl-course-2022/images/esc_siRDNA_13.tif',\n",
       " '../../data/dl-course-2022/images/esc_siRDNA_11.tif',\n",
       " '../../data/dl-course-2022/images/esc_siRDNA_9.tif',\n",
       " '../../data/dl-course-2022/images/esc_siRDNA_34.tif',\n",
       " '../../data/dl-course-2022/images/esc_siRDNA_2.tif',\n",
       " '../../data/dl-course-2022/images/esc_siRDNA_0.tif',\n",
       " '../../data/dl-course-2022/images/esc_siRDNA_44.tif',\n",
       " '../../data/dl-course-2022/images/esc_siRDNA_8.tif',\n",
       " '../../data/dl-course-2022/images/esc_siRDNA_14.tif',\n",
       " '../../data/dl-course-2022/images/esc_siRDNA_55.tif',\n",
       " '../../data/dl-course-2022/images/esc_siRDNA_36.tif',\n",
       " '../../data/dl-course-2022/images/esc_siRDNA_15.tif',\n",
       " '../../data/dl-course-2022/images/esc_siRDNA_17.tif',\n",
       " '../../data/dl-course-2022/images/esc_siRDNA_12.tif',\n",
       " '../../data/dl-course-2022/images/esc_siRDNA_4.tif',\n",
       " '../../data/dl-course-2022/images/esc_siRDNA_25.tif',\n",
       " '../../data/dl-course-2022/images/esc_siRDNA_26.tif',\n",
       " '../../data/dl-course-2022/images/esc_siRDNA_1.tif',\n",
       " '../../data/dl-course-2022/images/esc_siRDNA_22.tif',\n",
       " '../../data/dl-course-2022/images/esc_siRDNA_32.tif',\n",
       " '../../data/dl-course-2022/images/esc_siRDNA_31.tif',\n",
       " '../../data/dl-course-2022/images/esc_siRDNA_10.tif',\n",
       " '../../data/dl-course-2022/images/esc_siRDNA_42.tif',\n",
       " '../../data/dl-course-2022/images/esc_siRDNA_47.tif',\n",
       " '../../data/dl-course-2022/images/esc_siRDNA_37.tif',\n",
       " '../../data/dl-course-2022/images/esc_siRDNA_48.tif']"
      ]
     },
     "execution_count": 14,
     "metadata": {},
     "output_type": "execute_result"
    }
   ],
   "source": [
    "img_files"
   ]
  },
  {
   "cell_type": "code",
   "execution_count": 16,
   "id": "077ade1d-0e99-4eb2-9b4a-5d1641a8aed7",
   "metadata": {},
   "outputs": [],
   "source": [
    "for img_file in img_files:\n",
    "    img = imread(img_file)\n",
    "    new_img = np.zeros((21,1024,1024))\n",
    "    for z, slice_data in enumerate(img):\n",
    "        new_img[z,:,:] = slice_data\n",
    "    with h5py.File(os.path.join('../../data/dl-course-2022/h5/images',\n",
    "                                os.path.basename(img_file).replace('.tif',''))+'.hdf5', 'w') as f:\n",
    "        f['dataset'] = new_img"
   ]
  },
  {
   "cell_type": "code",
   "execution_count": 11,
   "id": "6d1311d4-2506-4867-96dd-087a0498e239",
   "metadata": {},
   "outputs": [
    {
     "data": {
      "text/plain": [
       "<matplotlib.image.AxesImage at 0x7fecb4fc27f0>"
      ]
     },
     "execution_count": 11,
     "metadata": {},
     "output_type": "execute_result"
    },
    {
     "data": {
      "image/png": "[encoded data removed]",
      "text/plain": [
       "<Figure size 432x288 with 1 Axes>"
      ]
     },
     "metadata": {
      "image/png": {
       "height": 251,
       "width": 272
      },
      "needs_background": "light"
     },
     "output_type": "display_data"
    }
   ],
   "source": [
    "plt.imshow(new_img[12,:,:])"
   ]
  },
  {
   "cell_type": "code",
   "execution_count": 21,
   "id": "85c0b22f-17de-4b6d-8ca5-009c4f6b9c4c",
   "metadata": {},
   "outputs": [
    {
     "data": {
      "text/plain": [
       "array([[[0, 0, 0, ..., 0, 0, 0],\n",
       "        [0, 0, 0, ..., 0, 0, 0],\n",
       "        [0, 0, 0, ..., 0, 0, 0],\n",
       "        ...,\n",
       "        [0, 0, 0, ..., 0, 0, 0],\n",
       "        [0, 0, 0, ..., 0, 0, 0],\n",
       "        [0, 0, 0, ..., 0, 0, 0]],\n",
       "\n",
       "       [[0, 0, 0, ..., 0, 0, 0],\n",
       "        [0, 0, 0, ..., 0, 0, 0],\n",
       "        [0, 0, 0, ..., 0, 0, 0],\n",
       "        ...,\n",
       "        [0, 0, 0, ..., 0, 0, 0],\n",
       "        [0, 0, 0, ..., 0, 0, 0],\n",
       "        [0, 0, 0, ..., 0, 0, 0]],\n",
       "\n",
       "       [[0, 0, 0, ..., 0, 0, 0],\n",
       "        [0, 0, 0, ..., 0, 0, 0],\n",
       "        [0, 0, 0, ..., 0, 0, 0],\n",
       "        ...,\n",
       "        [0, 0, 0, ..., 0, 0, 0],\n",
       "        [0, 0, 0, ..., 0, 0, 0],\n",
       "        [0, 0, 0, ..., 0, 0, 0]],\n",
       "\n",
       "       ...,\n",
       "\n",
       "       [[0, 0, 0, ..., 0, 0, 0],\n",
       "        [0, 0, 0, ..., 0, 0, 0],\n",
       "        [0, 0, 0, ..., 0, 0, 0],\n",
       "        ...,\n",
       "        [0, 0, 0, ..., 0, 0, 0],\n",
       "        [0, 0, 0, ..., 0, 0, 0],\n",
       "        [0, 0, 0, ..., 0, 0, 0]],\n",
       "\n",
       "       [[0, 0, 0, ..., 0, 0, 0],\n",
       "        [0, 0, 0, ..., 0, 0, 0],\n",
       "        [0, 0, 0, ..., 0, 0, 0],\n",
       "        ...,\n",
       "        [0, 0, 0, ..., 0, 0, 0],\n",
       "        [0, 0, 0, ..., 0, 0, 0],\n",
       "        [0, 0, 0, ..., 0, 0, 0]],\n",
       "\n",
       "       [[0, 0, 0, ..., 0, 0, 0],\n",
       "        [0, 0, 0, ..., 0, 0, 0],\n",
       "        [0, 0, 0, ..., 0, 0, 0],\n",
       "        ...,\n",
       "        [0, 0, 0, ..., 0, 0, 0],\n",
       "        [0, 0, 0, ..., 0, 0, 0],\n",
       "        [0, 0, 0, ..., 0, 0, 0]]], dtype=uint16)"
      ]
     },
     "execution_count": 21,
     "metadata": {},
     "output_type": "execute_result"
    }
   ],
   "source": []
  },
  {
   "cell_type": "code",
   "execution_count": 20,
   "id": "f5007002-5ee3-4c38-bab4-f2547b2ab16f",
   "metadata": {},
   "outputs": [],
   "source": [
    "import h5py"
   ]
  },
  {
   "cell_type": "code",
   "execution_count": null,
   "id": "3f54588a-988f-42f8-8449-2fe034be5773",
   "metadata": {},
   "outputs": [],
   "source": []
  }
 ],
 "metadata": {
  "kernelspec": {
   "display_name": "Python [conda env:stardist]",
   "language": "python",
   "name": "conda-env-stardist-py"
  },
  "language_info": {
   "codemirror_mode": {
    "name": "ipython",
    "version": 3
   },
   "file_extension": ".py",
   "mimetype": "text/x-python",
   "name": "python",
   "nbconvert_exporter": "python",
   "pygments_lexer": "ipython3",
   "version": "3.8.0"
  }
 },
 "nbformat": 4,
 "nbformat_minor": 5
}
