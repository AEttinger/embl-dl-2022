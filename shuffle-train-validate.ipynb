{
 "cells": [
  {
   "cell_type": "code",
   "execution_count": 1,
   "id": "82f2aaec-e735-4c23-b3e8-1e8397d8dba5",
   "metadata": {},
   "outputs": [],
   "source": [
    "import os, shutil"
   ]
  },
  {
   "cell_type": "code",
   "execution_count": 2,
   "id": "f5f076d6-601c-4b14-af3a-6892650c62e2",
   "metadata": {},
   "outputs": [],
   "source": [
    "from glob import glob"
   ]
  },
  {
   "cell_type": "code",
   "execution_count": 3,
   "id": "5d10df40-9e4a-48ed-85ef-a65a41524fe3",
   "metadata": {},
   "outputs": [],
   "source": [
    "image_files = glob('../../data/dl-course-2022/h5/*.h5')"
   ]
  },
  {
   "cell_type": "code",
   "execution_count": 4,
   "id": "15bf18f5-b71f-42eb-a3df-2f26aa376c82",
   "metadata": {},
   "outputs": [],
   "source": [
    "from random import shuffle"
   ]
  },
  {
   "cell_type": "code",
   "execution_count": 5,
   "id": "6abfa803-15dd-42a0-86c7-934cf272c686",
   "metadata": {},
   "outputs": [],
   "source": [
    "shuffle(image_files) # mix the order of files"
   ]
  },
  {
   "cell_type": "code",
   "execution_count": 6,
   "id": "2c94356e-acd5-4ad6-8369-774de02af9de",
   "metadata": {},
   "outputs": [
    {
     "data": {
      "text/plain": [
       "56"
      ]
     },
     "execution_count": 6,
     "metadata": {},
     "output_type": "execute_result"
    }
   ],
   "source": [
    "len(image_files)"
   ]
  },
  {
   "cell_type": "code",
   "execution_count": 7,
   "id": "c7935b81-2920-4a29-a068-8f510585d9d7",
   "metadata": {},
   "outputs": [
    {
     "data": {
      "text/plain": [
       "39.199999999999996"
      ]
     },
     "execution_count": 7,
     "metadata": {},
     "output_type": "execute_result"
    }
   ],
   "source": [
    "0.7*len(image_files)"
   ]
  },
  {
   "cell_type": "code",
   "execution_count": 6,
   "id": "5a12c9a1-b8ba-4ee4-92a2-664dc5bab274",
   "metadata": {},
   "outputs": [
    {
     "data": {
      "text/plain": [
       "['../../data/dl-course-2022/h5/esc_siRDNA_17.h5',\n",
       " '../../data/dl-course-2022/h5/esc_siRDNA_27.h5',\n",
       " '../../data/dl-course-2022/h5/esc_siRDNA_23.h5',\n",
       " '../../data/dl-course-2022/h5/esc_siRDNA_53.h5',\n",
       " '../../data/dl-course-2022/h5/esc_siRDNA_25.h5',\n",
       " '../../data/dl-course-2022/h5/esc_siRDNA_14.h5',\n",
       " '../../data/dl-course-2022/h5/esc_siRDNA_48.h5',\n",
       " '../../data/dl-course-2022/h5/esc_siRDNA_26.h5',\n",
       " '../../data/dl-course-2022/h5/esc_siRDNA_6.h5',\n",
       " '../../data/dl-course-2022/h5/esc_siRDNA_45.h5',\n",
       " '../../data/dl-course-2022/h5/esc_siRDNA_35.h5',\n",
       " '../../data/dl-course-2022/h5/esc_siRDNA_18.h5',\n",
       " '../../data/dl-course-2022/h5/esc_siRDNA_24.h5',\n",
       " '../../data/dl-course-2022/h5/esc_siRDNA_8.h5',\n",
       " '../../data/dl-course-2022/h5/esc_siRDNA_5.h5',\n",
       " '../../data/dl-course-2022/h5/esc_siRDNA_9.h5',\n",
       " '../../data/dl-course-2022/h5/esc_siRDNA_49.h5',\n",
       " '../../data/dl-course-2022/h5/esc_siRDNA_54.h5',\n",
       " '../../data/dl-course-2022/h5/esc_siRDNA_31.h5',\n",
       " '../../data/dl-course-2022/h5/esc_siRDNA_40.h5',\n",
       " '../../data/dl-course-2022/h5/esc_siRDNA_1.h5',\n",
       " '../../data/dl-course-2022/h5/esc_siRDNA_52.h5',\n",
       " '../../data/dl-course-2022/h5/esc_siRDNA_43.h5',\n",
       " '../../data/dl-course-2022/h5/esc_siRDNA_20.h5',\n",
       " '../../data/dl-course-2022/h5/esc_siRDNA_16.h5',\n",
       " '../../data/dl-course-2022/h5/esc_siRDNA_3.h5',\n",
       " '../../data/dl-course-2022/h5/esc_siRDNA_28.h5',\n",
       " '../../data/dl-course-2022/h5/esc_siRDNA_10.h5',\n",
       " '../../data/dl-course-2022/h5/esc_siRDNA_19.h5',\n",
       " '../../data/dl-course-2022/h5/esc_siRDNA_37.h5',\n",
       " '../../data/dl-course-2022/h5/esc_siRDNA_0.h5',\n",
       " '../../data/dl-course-2022/h5/esc_siRDNA_12.h5',\n",
       " '../../data/dl-course-2022/h5/esc_siRDNA_47.h5',\n",
       " '../../data/dl-course-2022/h5/esc_siRDNA_2.h5',\n",
       " '../../data/dl-course-2022/h5/esc_siRDNA_50.h5',\n",
       " '../../data/dl-course-2022/h5/esc_siRDNA_51.h5',\n",
       " '../../data/dl-course-2022/h5/esc_siRDNA_13.h5',\n",
       " '../../data/dl-course-2022/h5/esc_siRDNA_36.h5',\n",
       " '../../data/dl-course-2022/h5/esc_siRDNA_46.h5',\n",
       " '../../data/dl-course-2022/h5/esc_siRDNA_34.h5',\n",
       " '../../data/dl-course-2022/h5/esc_siRDNA_42.h5',\n",
       " '../../data/dl-course-2022/h5/esc_siRDNA_33.h5',\n",
       " '../../data/dl-course-2022/h5/esc_siRDNA_32.h5',\n",
       " '../../data/dl-course-2022/h5/esc_siRDNA_21.h5',\n",
       " '../../data/dl-course-2022/h5/esc_siRDNA_41.h5',\n",
       " '../../data/dl-course-2022/h5/esc_siRDNA_30.h5',\n",
       " '../../data/dl-course-2022/h5/esc_siRDNA_55.h5',\n",
       " '../../data/dl-course-2022/h5/esc_siRDNA_4.h5',\n",
       " '../../data/dl-course-2022/h5/esc_siRDNA_11.h5',\n",
       " '../../data/dl-course-2022/h5/esc_siRDNA_38.h5',\n",
       " '../../data/dl-course-2022/h5/esc_siRDNA_22.h5',\n",
       " '../../data/dl-course-2022/h5/esc_siRDNA_7.h5',\n",
       " '../../data/dl-course-2022/h5/esc_siRDNA_44.h5',\n",
       " '../../data/dl-course-2022/h5/esc_siRDNA_29.h5',\n",
       " '../../data/dl-course-2022/h5/esc_siRDNA_15.h5',\n",
       " '../../data/dl-course-2022/h5/esc_siRDNA_39.h5']"
      ]
     },
     "execution_count": 6,
     "metadata": {},
     "output_type": "execute_result"
    }
   ],
   "source": [
    "image_files"
   ]
  },
  {
   "cell_type": "code",
   "execution_count": null,
   "id": "faf87321-b931-49c2-8ef9-7cf5a5795bd8",
   "metadata": {},
   "outputs": [],
   "source": [
    "# after files are shuffled we can just loop through the first 70% for training \n",
    "# then the rest for validation"
   ]
  },
  {
   "cell_type": "code",
   "execution_count": 16,
   "id": "e5a5428a-57bf-4f07-a149-a588972464e0",
   "metadata": {},
   "outputs": [
    {
     "ename": "IndexError",
     "evalue": "list index out of range",
     "output_type": "error",
     "traceback": [
      "\u001b[0;31m---------------------------------------------------------------------------\u001b[0m",
      "\u001b[0;31mIndexError\u001b[0m                                Traceback (most recent call last)",
      "\u001b[0;32m/tmp/ipykernel_68311/1282352180.py\u001b[0m in \u001b[0;36m<module>\u001b[0;34m\u001b[0m\n\u001b[0;32m----> 1\u001b[0;31m \u001b[0mimage_files\u001b[0m\u001b[0;34m[\u001b[0m\u001b[0;36m56\u001b[0m\u001b[0;34m]\u001b[0m\u001b[0;34m\u001b[0m\u001b[0;34m\u001b[0m\u001b[0m\n\u001b[0m",
      "\u001b[0;31mIndexError\u001b[0m: list index out of range"
     ]
    }
   ],
   "source": [
    "image_files[56]"
   ]
  },
  {
   "cell_type": "code",
   "execution_count": 17,
   "id": "7d0b36d2-e561-4366-be6e-954e6f6d3c55",
   "metadata": {},
   "outputs": [],
   "source": [
    "for image_file in image_files[0:38]:\n",
    "    base = os.path.basename(image_file)  \n",
    "    shutil.copy2(os.path.join(\n",
    "                '../../data/dl-course-2022/h5', base),\n",
    "                os.path.join(\n",
    "                '../../data/dl-course-2022/h5/train', base))\n",
    "for image_file in image_files[38:55]:\n",
    "    base = os.path.basename(image_file)  \n",
    "    shutil.copy2(os.path.join(\n",
    "                '../../data/dl-course-2022/h5', base),\n",
    "                os.path.join(\n",
    "                '../../data/dl-course-2022/h5/validate', base))"
   ]
  },
  {
   "cell_type": "code",
   "execution_count": 8,
   "id": "0fef2d0a-626f-4673-9a91-96bbcba09432",
   "metadata": {},
   "outputs": [],
   "source": [
    "for image_file in image_files[0:38]:\n",
    "    base = os.path.basename(image_file)  \n",
    "    shutil.copy2(os.path.join(\n",
    "                '../../data/dl-course-2022/h5/images', base),\n",
    "                     os.path.join(\n",
    "                '../../data/dl-course-2022/h5/train/images', base))\n",
    "    shutil.copy2(os.path.join(\n",
    "                '../../data/dl-course-2022/h5/masks', base),\n",
    "                     os.path.join(\n",
    "                '../../data/dl-course-2022/h5/train/masks', base)) "
   ]
  },
  {
   "cell_type": "code",
   "execution_count": 9,
   "id": "36997232-46be-4e10-bd7e-3833ef52bbfb",
   "metadata": {},
   "outputs": [],
   "source": [
    "for image_file in image_files[39:55]:\n",
    "    base = os.path.basename(image_file)\n",
    "    shutil.copy2(os.path.join(\n",
    "                '../../data/dl-course-2022/h5/images', base),\n",
    "                     os.path.join(\n",
    "                '../../data/dl-course-2022/h5/validate/images', base))\n",
    "    shutil.copy2(os.path.join(\n",
    "                '../../data/dl-course-2022/h5/masks', base),\n",
    "                     os.path.join(\n",
    "                '../../data/dl-course-2022/h5/validate/masks', base))"
   ]
  },
  {
   "cell_type": "code",
   "execution_count": null,
   "id": "c0543a87-87a7-40c8-b9ff-1eb279edbda4",
   "metadata": {},
   "outputs": [],
   "source": []
  }
 ],
 "metadata": {
  "kernelspec": {
   "display_name": "Python [conda env:dl-image-pytorch-gpu] *",
   "language": "python",
   "name": "conda-env-dl-image-pytorch-gpu-py"
  },
  "language_info": {
   "codemirror_mode": {
    "name": "ipython",
    "version": 3
   },
   "file_extension": ".py",
   "mimetype": "text/x-python",
   "name": "python",
   "nbconvert_exporter": "python",
   "pygments_lexer": "ipython3",
   "version": "3.9.7"
  }
 },
 "nbformat": 4,
 "nbformat_minor": 5
}
